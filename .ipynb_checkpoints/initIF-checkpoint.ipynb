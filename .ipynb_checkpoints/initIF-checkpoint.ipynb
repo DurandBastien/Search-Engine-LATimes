{
 "cells": [
  {
   "cell_type": "code",
   "execution_count": null,
   "metadata": {},
   "outputs": [],
   "source": [
    "from globals import invertedFile as IF\n",
    "import tokenization\n",
    "\n",
    "def initialiseIF():\n",
    "    pairDocidWords = tokenization.nextDocument();\n",
    "    docId = pairDocidWords.first\n",
    "    tupleWords = pairDocidWords.second\n",
    "    "
   ]
  }
 ],
 "metadata": {
  "kernelspec": {
   "display_name": "Search Engine LA Press",
   "language": "python",
   "name": "searchenginela"
  },
  "language_info": {
   "codemirror_mode": {
    "name": "ipython",
    "version": 3
   },
   "file_extension": ".py",
   "mimetype": "text/x-python",
   "name": "python",
   "nbconvert_exporter": "python",
   "pygments_lexer": "ipython3",
   "version": "3.6.9"
  }
 },
 "nbformat": 4,
 "nbformat_minor": 4
}
