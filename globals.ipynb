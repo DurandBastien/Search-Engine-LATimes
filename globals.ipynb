{
 "cells": [
  {
   "cell_type": "code",
   "execution_count": 3,
   "metadata": {},
   "outputs": [],
   "source": [
    "global invertedFile\n",
    "invertedFile = {}"
   ]
  }
 ],
 "metadata": {
  "kernelspec": {
   "display_name": "Search Engine LA Press",
   "language": "python",
   "name": "searchenginela"
  },
  "language_info": {
   "codemirror_mode": {
    "name": "ipython",
    "version": 3
   },
   "file_extension": ".py",
   "mimetype": "text/x-python",
   "name": "python",
   "nbconvert_exporter": "python",
   "pygments_lexer": "ipython3",
   "version": "3.6.9"
  }
 },
 "nbformat": 4,
 "nbformat_minor": 4
}
